{
 "cells": [
  {
   "cell_type": "markdown",
   "metadata": {},
   "source": [
    "# what is GUI?"
   ]
  },
  {
   "cell_type": "markdown",
   "metadata": {},
   "source": [
    "GUI is a desktop app which helps you to interact with computer"
   ]
  },
  {
   "cell_type": "markdown",
   "metadata": {},
   "source": [
    "python libary for a GUI\n",
    "1)Kivy\n",
    "2)qt\n",
    "3)wxpython\n",
    "4)tkinter"
   ]
  },
  {
   "cell_type": "markdown",
   "metadata": {},
   "source": [
    "# What is tkinter?"
   ]
  },
  {
   "cell_type": "markdown",
   "metadata": {},
   "source": [
    "tkinter is python GUI programming is standard python GUI library it gives us an object oriented interface to the tk GUI toolkits"
   ]
  },
  {
   "cell_type": "markdown",
   "metadata": {},
   "source": [
    "# First Window Using Tkinter"
   ]
  },
  {
   "cell_type": "markdown",
   "metadata": {},
   "source": [
    "import the tkinter module,\n",
    "create the gui application main window,\n",
    "enter the main event loop,\n",
    "add widgets.."
   ]
  },
  {
   "cell_type": "code",
   "execution_count": 1,
   "metadata": {},
   "outputs": [],
   "source": [
    "import tkinter\n",
    "window =tkinter.Tk()\n",
    "#to rename the title of the window \n",
    "window.title(\"RUMIT\")\n",
    "#pack is used to show the object in the window\n",
    "label =tkinter.Label(window,text =\"Hello Rumit\").pack()\n",
    "window.mainloop()"
   ]
  },
  {
   "cell_type": "markdown",
   "metadata": {},
   "source": [
    "#  Widget"
   ]
  },
  {
   "cell_type": "code",
   "execution_count": 2,
   "metadata": {},
   "outputs": [],
   "source": [
    "#label widget\n",
    "import tkinter\n",
    "window =tkinter.Tk()\n",
    "L =tkinter.Label(window,text=\"Hello Rumit whatspp!!\")\n",
    "#window.geometry(350*200)\n",
    "L.pack()\n",
    "window.mainloop()"
   ]
  },
  {
   "cell_type": "code",
   "execution_count": 3,
   "metadata": {},
   "outputs": [],
   "source": [
    "##button\n",
    "import tkinter\n",
    "window =tkinter.Tk()\n",
    "L =tkinter.Label(window,text=\"Hello Rumit whatspp!!\")\n",
    "B = tkinter.Button(window ,text =\"Enter\",bg =\"orange\",fg =\"white\")\n",
    "B.grid(column =0,row =1)\n",
    "B.pack()\n",
    "L.pack()\n",
    "window.mainloop()"
   ]
  },
  {
   "cell_type": "code",
   "execution_count": 17,
   "metadata": {},
   "outputs": [],
   "source": [
    "from tkinter import *\n",
    "from tkinter import messagebox\n",
    "\n",
    "window =tkinter.Tk()\n",
    "def clicked():\n",
    "     messagebox.showinfo(\"Button was clicked\")\n",
    "B1 = Button(window, text = \"Say Hello\", command =clicked)\n",
    "B1.pack()\n",
    "window.mainloop()"
   ]
  },
  {
   "cell_type": "code",
   "execution_count": 6,
   "metadata": {},
   "outputs": [],
   "source": [
    "##entry \n",
    "from tkinter import *\n",
    "from tkinter import messagebox\n",
    "window =tkinter.Tk()\n",
    "L1 =Label(window,text =\"User name\")\n",
    "L1.pack(side = LEFT)\n",
    "L1 =Label(window,text =\"password\")\n",
    "L1.pack(side = LEFT)\n",
    "E1 =Entry(window, bd =5)\n",
    "E2 =Entry(window, bd =5)\n",
    "E1.pack(side =RIGHT)\n",
    "E2.pack(side =RIGHT)\n",
    "window.mainloop()"
   ]
  },
  {
   "cell_type": "code",
   "execution_count": 10,
   "metadata": {},
   "outputs": [],
   "source": [
    "#combo box\n",
    "from tkinter import*\n",
    "from tkinter import ttk \n",
    "\n",
    "window =tkinter.Tk()\n",
    "window.title(\"Combobox\")\n",
    "window.geometry(\"500x250\")\n",
    "\n",
    "# label text for title \n",
    "tkinter.Label(window,text =\"Plese Guiss Selected month and year\",\n",
    "             bg =\"green\",fg =\"white\",\n",
    "             font =(\"Times New Roman\",15)).grid(row =0,column =1)\n",
    "\n",
    "# label \n",
    "tkinter.Label(window, text = \"Select the Month :\", \n",
    "          font = (\"Times New Roman\", 10)).grid(column = 0, \n",
    "          row = 5, padx = 10, pady = 25) \n",
    "\n",
    "\n",
    "# Combobox creation \n",
    "n = tkinter.StringVar() \n",
    "monthchoosen = ttk.Combobox(window, width = 27, textvariable = n) \n",
    "  \n",
    "# Adding combobox drop down list \n",
    "monthchoosen['values'] = (' January',  \n",
    "                          ' February', \n",
    "                          ' March', \n",
    "                          ' April', \n",
    "                          ' May', \n",
    "                          ' June', \n",
    "                          ' July', \n",
    "                          ' August', \n",
    "                          ' September', \n",
    "                          ' October', \n",
    "                          ' November', \n",
    "                          ' December') \n",
    "  \n",
    "monthchoosen.grid(column = 1, row = 5) \n",
    "window.mainloop() "
   ]
  },
  {
   "cell_type": "code",
   "execution_count": 11,
   "metadata": {},
   "outputs": [],
   "source": [
    "#radio button\n",
    "import tkinter\n",
    "from tkinter import ttk \n",
    "\n",
    "window =tkinter.Tk()\n",
    "window.title(\"Radiobutton\")\n",
    "window.geometry(\"500x250\")\n",
    "\n",
    "# label text for title \n",
    "\n",
    "rad1 =Radiobutton(window,text =\"Python\",value =1)\n",
    "rad2 =Radiobutton(window,text =\"Java\",value =2)\n",
    "rad3 =Radiobutton(window,text =\"R\",value =3)\n",
    "rad4 =Radiobutton(window,text =\"Html\",value =4)\n",
    "rad1.grid(column =0,row =0)\n",
    "rad2.grid(column =1,row =0)\n",
    "rad3.grid(column =2,row =0)\n",
    "rad4.grid(column =3,row =0)\n",
    "\n",
    "window.mainloop()"
   ]
  },
  {
   "cell_type": "code",
   "execution_count": 12,
   "metadata": {},
   "outputs": [],
   "source": [
    "#ScrolledText Widget\n",
    "\n",
    "import tkinter\n",
    "from tkinter import ttk \n",
    "from tkinter import scrolledtext\n",
    "\n",
    "window =tkinter.Tk()\n",
    "window.title(\"ScrolledText\")\n",
    "window.geometry(\"500x250\")\n",
    "txt =scrolledtext.ScrolledText(window,width =40,height =10)\n",
    "txt.pack()\n",
    "txt.insert(INSERT,\"you text goes here\")\n",
    "window.mainloop()"
   ]
  },
  {
   "cell_type": "code",
   "execution_count": 13,
   "metadata": {},
   "outputs": [],
   "source": [
    "##spinbox\n",
    "import tkinter\n",
    "from tkinter import ttk \n",
    "\n",
    "window =tkinter.Tk()\n",
    "window.title(\"Spinbox\")\n",
    "window.geometry(\"500x250\")\n",
    "\n",
    "spin =Spinbox(window,from_= 0,to =100,width =5)\n",
    "spin.pack()\n",
    "window.mainloop()"
   ]
  },
  {
   "cell_type": "code",
   "execution_count": 14,
   "metadata": {},
   "outputs": [
    {
     "ename": "TclError",
     "evalue": "couldn't open \"123.PNG\": no such file or directory",
     "output_type": "error",
     "traceback": [
      "\u001b[1;31m---------------------------------------------------------------------------\u001b[0m",
      "\u001b[1;31mTclError\u001b[0m                                  Traceback (most recent call last)",
      "\u001b[1;32m<ipython-input-14-90e79ff46fbc>\u001b[0m in \u001b[0;36m<module>\u001b[1;34m\u001b[0m\n\u001b[0;32m      7\u001b[0m \u001b[0mwindow\u001b[0m\u001b[1;33m.\u001b[0m\u001b[0mgeometry\u001b[0m\u001b[1;33m(\u001b[0m\u001b[1;34m\"500x250\"\u001b[0m\u001b[1;33m)\u001b[0m\u001b[1;33m\u001b[0m\u001b[1;33m\u001b[0m\u001b[0m\n\u001b[0;32m      8\u001b[0m \u001b[0mL\u001b[0m \u001b[1;33m=\u001b[0m\u001b[0mtkinter\u001b[0m\u001b[1;33m.\u001b[0m\u001b[0mLabel\u001b[0m\u001b[1;33m(\u001b[0m\u001b[0mwindow\u001b[0m\u001b[1;33m,\u001b[0m\u001b[0mtext\u001b[0m\u001b[1;33m=\u001b[0m\u001b[1;34m\"Hello Rumit whatspp!!\"\u001b[0m\u001b[1;33m)\u001b[0m\u001b[1;33m\u001b[0m\u001b[1;33m\u001b[0m\u001b[0m\n\u001b[1;32m----> 9\u001b[1;33m \u001b[0micon\u001b[0m \u001b[1;33m=\u001b[0m\u001b[0mtkinter\u001b[0m\u001b[1;33m.\u001b[0m\u001b[0mPhotoImage\u001b[0m\u001b[1;33m(\u001b[0m\u001b[0mfile\u001b[0m \u001b[1;33m=\u001b[0m\u001b[1;34mr\"123.PNG\"\u001b[0m\u001b[1;33m)\u001b[0m\u001b[1;33m\u001b[0m\u001b[1;33m\u001b[0m\u001b[0m\n\u001b[0m\u001b[0;32m     10\u001b[0m \u001b[0mL1\u001b[0m \u001b[1;33m=\u001b[0m\u001b[0mtkinter\u001b[0m\u001b[1;33m.\u001b[0m\u001b[0mLabel\u001b[0m\u001b[1;33m(\u001b[0m\u001b[0mwindow\u001b[0m\u001b[1;33m,\u001b[0m\u001b[0mimage\u001b[0m \u001b[1;33m=\u001b[0m\u001b[0micon\u001b[0m\u001b[1;33m)\u001b[0m\u001b[1;33m\u001b[0m\u001b[1;33m\u001b[0m\u001b[0m\n\u001b[0;32m     11\u001b[0m \u001b[0mL1\u001b[0m\u001b[1;33m.\u001b[0m\u001b[0mpack\u001b[0m\u001b[1;33m(\u001b[0m\u001b[1;33m)\u001b[0m\u001b[1;33m\u001b[0m\u001b[1;33m\u001b[0m\u001b[0m\n",
      "\u001b[1;32m~\\anaconda3\\lib\\tkinter\\__init__.py\u001b[0m in \u001b[0;36m__init__\u001b[1;34m(self, name, cnf, master, **kw)\u001b[0m\n\u001b[0;32m   4059\u001b[0m         \u001b[0mValid\u001b[0m \u001b[0mresource\u001b[0m \u001b[0mnames\u001b[0m\u001b[1;33m:\u001b[0m \u001b[0mdata\u001b[0m\u001b[1;33m,\u001b[0m \u001b[0mformat\u001b[0m\u001b[1;33m,\u001b[0m \u001b[0mfile\u001b[0m\u001b[1;33m,\u001b[0m \u001b[0mgamma\u001b[0m\u001b[1;33m,\u001b[0m \u001b[0mheight\u001b[0m\u001b[1;33m,\u001b[0m \u001b[0mpalette\u001b[0m\u001b[1;33m,\u001b[0m\u001b[1;33m\u001b[0m\u001b[1;33m\u001b[0m\u001b[0m\n\u001b[0;32m   4060\u001b[0m         width.\"\"\"\n\u001b[1;32m-> 4061\u001b[1;33m         \u001b[0mImage\u001b[0m\u001b[1;33m.\u001b[0m\u001b[0m__init__\u001b[0m\u001b[1;33m(\u001b[0m\u001b[0mself\u001b[0m\u001b[1;33m,\u001b[0m \u001b[1;34m'photo'\u001b[0m\u001b[1;33m,\u001b[0m \u001b[0mname\u001b[0m\u001b[1;33m,\u001b[0m \u001b[0mcnf\u001b[0m\u001b[1;33m,\u001b[0m \u001b[0mmaster\u001b[0m\u001b[1;33m,\u001b[0m \u001b[1;33m**\u001b[0m\u001b[0mkw\u001b[0m\u001b[1;33m)\u001b[0m\u001b[1;33m\u001b[0m\u001b[1;33m\u001b[0m\u001b[0m\n\u001b[0m\u001b[0;32m   4062\u001b[0m \u001b[1;33m\u001b[0m\u001b[0m\n\u001b[0;32m   4063\u001b[0m     \u001b[1;32mdef\u001b[0m \u001b[0mblank\u001b[0m\u001b[1;33m(\u001b[0m\u001b[0mself\u001b[0m\u001b[1;33m)\u001b[0m\u001b[1;33m:\u001b[0m\u001b[1;33m\u001b[0m\u001b[1;33m\u001b[0m\u001b[0m\n",
      "\u001b[1;32m~\\anaconda3\\lib\\tkinter\\__init__.py\u001b[0m in \u001b[0;36m__init__\u001b[1;34m(self, imgtype, name, cnf, master, **kw)\u001b[0m\n\u001b[0;32m   4004\u001b[0m                 \u001b[0mv\u001b[0m \u001b[1;33m=\u001b[0m \u001b[0mself\u001b[0m\u001b[1;33m.\u001b[0m\u001b[0m_register\u001b[0m\u001b[1;33m(\u001b[0m\u001b[0mv\u001b[0m\u001b[1;33m)\u001b[0m\u001b[1;33m\u001b[0m\u001b[1;33m\u001b[0m\u001b[0m\n\u001b[0;32m   4005\u001b[0m             \u001b[0moptions\u001b[0m \u001b[1;33m=\u001b[0m \u001b[0moptions\u001b[0m \u001b[1;33m+\u001b[0m \u001b[1;33m(\u001b[0m\u001b[1;34m'-'\u001b[0m\u001b[1;33m+\u001b[0m\u001b[0mk\u001b[0m\u001b[1;33m,\u001b[0m \u001b[0mv\u001b[0m\u001b[1;33m)\u001b[0m\u001b[1;33m\u001b[0m\u001b[1;33m\u001b[0m\u001b[0m\n\u001b[1;32m-> 4006\u001b[1;33m         \u001b[0mself\u001b[0m\u001b[1;33m.\u001b[0m\u001b[0mtk\u001b[0m\u001b[1;33m.\u001b[0m\u001b[0mcall\u001b[0m\u001b[1;33m(\u001b[0m\u001b[1;33m(\u001b[0m\u001b[1;34m'image'\u001b[0m\u001b[1;33m,\u001b[0m \u001b[1;34m'create'\u001b[0m\u001b[1;33m,\u001b[0m \u001b[0mimgtype\u001b[0m\u001b[1;33m,\u001b[0m \u001b[0mname\u001b[0m\u001b[1;33m,\u001b[0m\u001b[1;33m)\u001b[0m \u001b[1;33m+\u001b[0m \u001b[0moptions\u001b[0m\u001b[1;33m)\u001b[0m\u001b[1;33m\u001b[0m\u001b[1;33m\u001b[0m\u001b[0m\n\u001b[0m\u001b[0;32m   4007\u001b[0m         \u001b[0mself\u001b[0m\u001b[1;33m.\u001b[0m\u001b[0mname\u001b[0m \u001b[1;33m=\u001b[0m \u001b[0mname\u001b[0m\u001b[1;33m\u001b[0m\u001b[1;33m\u001b[0m\u001b[0m\n\u001b[0;32m   4008\u001b[0m \u001b[1;33m\u001b[0m\u001b[0m\n",
      "\u001b[1;31mTclError\u001b[0m: couldn't open \"123.PNG\": no such file or directory"
     ]
    }
   ],
   "source": [
    "##image add\n",
    "import tkinter\n",
    "from tkinter import ttk \n",
    "\n",
    "window =tkinter.Tk()\n",
    "window.title(\"Image\")\n",
    "window.geometry(\"500x250\")\n",
    "L =tkinter.Label(window,text=\"Hello Rumit whatspp!!\")\n",
    "icon =tkinter.PhotoImage(file =r\"123.PNG\")\n",
    "L1 =tkinter.Label(window,image =icon)\n",
    "L1.pack()\n",
    "L.pack()\n",
    "window.mainloop()"
   ]
  },
  {
   "cell_type": "markdown",
   "metadata": {},
   "source": [
    "We use Frame class to arrange layout in a window"
   ]
  },
  {
   "cell_type": "markdown",
   "metadata": {},
   "source": [
    "# frame and button"
   ]
  },
  {
   "cell_type": "code",
   "execution_count": 15,
   "metadata": {},
   "outputs": [],
   "source": [
    "##frame\n",
    "import tkinter\n",
    "from tkinter import ttk \n",
    "\n",
    "window =tkinter.Tk()\n",
    "window.title(\"frame\")\n",
    "window.geometry(\"500x250\")\n",
    "top_frame =tkinter.Frame(window).pack()\n",
    "bottom_frame =tkinter.Frame(window).pack(side =\"bottom\")\n",
    "\n",
    "B1 =tkinter.Button(top_frame,text =\"Hey\",bg =\"green\",fg =\"white\").pack()\n",
    "B2 =tkinter.Button(top_frame,text =\"Hii\",bg =\"green\",fg =\"white\").pack()\n",
    "B3 =tkinter.Button(bottom_frame,text =\"Hey\",bg =\"green\",fg =\"white\").pack(side =\"left\")\n",
    "B4 =tkinter.Button(bottom_frame,text =\"hi\",bg =\"green\",fg =\"white\").pack(side =\"left\")\n",
    "\n",
    "\n",
    "window.mainloop()"
   ]
  },
  {
   "cell_type": "code",
   "execution_count": 16,
   "metadata": {},
   "outputs": [],
   "source": [
    "##Exmple1\n",
    "import tkinter\n",
    "from tkinter import ttk \n",
    "\n",
    "window =tkinter.Tk()\n",
    "window.title(\"frame\")\n",
    "window.geometry(\"500x250\")\n",
    "L1 =tkinter.Label(window,text =\"username\").grid(row =0)\n",
    "E1 =tkinter.Entry(window,text =\"name\").grid(row =0,column =1)\n",
    "\n",
    "L2 =tkinter.Label(window,text =\"Password\").grid(row =1)\n",
    "El =tkinter.Entry(window,text =\"password\").grid(row =1,column =1)\n",
    "\n",
    "B1 =tkinter.Checkbutton(window,text =\"Keep me Logged in\").grid(columnspan =2)\n",
    "\n",
    "window.mainloop()"
   ]
  },
  {
   "cell_type": "markdown",
   "metadata": {},
   "source": [
    "# USE CASE :desing a on calculator"
   ]
  },
  {
   "cell_type": "code",
   "execution_count": 68,
   "metadata": {},
   "outputs": [],
   "source": [
    "import tkinter\n",
    "from tkinter import ttk \n",
    "\n",
    "window =tkinter.Tk()\n",
    "window.title(\"Calculator\")\n",
    "window.resizable(0,0)\n",
    "window.geometry(\"250x400+300+300\")\n",
    "\n",
    "bunrow1 =tkinter.Frame(window,bg =\"black\").pack(expand =True,fill =\"both\",)\n",
    "\n",
    "\n",
    "B1 =tkinter.Button(bunrow1,text =\"1\",font =(\"Verdana\",22)).pack(side =\"left\",expand =True,fill =\"both\")\n",
    "B2 =tkinter.Button(bunrow1,text =\"2\",font =(\"Verdana\",22)).pack(side =\"left\",expand =True,fill =\"both\")\n",
    "B3 =tkinter.Button(bunrow1,text =\"3\",font =(\"Verdana\",22)).pack(side =\"left\",expand =True,fill =\"both\")\n",
    "B4 =tkinter.Button(bunrow1,text =\"+\",font =(\"Verdana\",22)).pack(side =\"left\",expand =True,fill =\"both\")\n",
    "bunrow2 =tkinter.Frame(window).pack(expand =True,fill =\"both\",)\n",
    "\n",
    "bunrow3 =tkinter.Frame(window).pack(expand =True,fill =\"both\",)\n",
    "\n",
    "bunrow4 =tkinter.Frame(window).pack(expand =True,fill =\"both\",)\n",
    "B13 =tkinter.Button(bunrow4,text =\"0\",font =(\"Verdana\",22)).pack(side =\"left\",expand =True,fill =\"both\")\n",
    "B14 =tkinter.Button(bunrow4,text =\"CE\",font =(\"Verdana\",22)).pack(side =\"left\",expand =True,fill =\"both\")\n",
    "B15 =tkinter.Button(bunrow4,text =\".\",font =(\"Verdana\",22)).pack(side =\"left\",expand =True,fill =\"both\")\n",
    "B16 =tkinter.Button(bunrow4,text =\"=\",font =(\"Verdana\",22)).pack(side =\"left\",expand =True,fill =\"both\")\n",
    "\n",
    "window.mainloop()"
   ]
  },
  {
   "cell_type": "code",
   "execution_count": null,
   "metadata": {},
   "outputs": [],
   "source": []
  },
  {
   "cell_type": "code",
   "execution_count": null,
   "metadata": {},
   "outputs": [],
   "source": []
  },
  {
   "cell_type": "code",
   "execution_count": null,
   "metadata": {},
   "outputs": [],
   "source": []
  }
 ],
 "metadata": {
  "kernelspec": {
   "display_name": "Python 3",
   "language": "python",
   "name": "python3"
  },
  "language_info": {
   "codemirror_mode": {
    "name": "ipython",
    "version": 3
   },
   "file_extension": ".py",
   "mimetype": "text/x-python",
   "name": "python",
   "nbconvert_exporter": "python",
   "pygments_lexer": "ipython3",
   "version": "3.8.3"
  }
 },
 "nbformat": 4,
 "nbformat_minor": 4
}
